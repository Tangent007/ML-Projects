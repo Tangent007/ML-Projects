{
  "nbformat": 4,
  "nbformat_minor": 0,
  "metadata": {
    "kernelspec": {
      "display_name": "Python 3",
      "language": "python",
      "name": "python3"
    },
    "language_info": {
      "codemirror_mode": {
        "name": "ipython",
        "version": 3
      },
      "file_extension": ".py",
      "mimetype": "text/x-python",
      "name": "python",
      "nbconvert_exporter": "python",
      "pygments_lexer": "ipython3",
      "version": "3.7.3"
    },
    "colab": {
      "name": "Sentiment_notebook.ipynb",
      "provenance": [],
      "collapsed_sections": [],
      "toc_visible": true,
      "include_colab_link": true
    }
  },
  "cells": [
    {
      "cell_type": "markdown",
      "metadata": {
        "id": "view-in-github",
        "colab_type": "text"
      },
      "source": [
        "<a href=\"https://colab.research.google.com/github/Tangent007/ML-Projects/blob/master/Logistic%20Regression-%20Sentiment%20analysis/Sentiment_notebook.ipynb\" target=\"_parent\"><img src=\"https://colab.research.google.com/assets/colab-badge.svg\" alt=\"Open In Colab\"/></a>"
      ]
    },
    {
      "cell_type": "markdown",
      "metadata": {
        "id": "xdhQPU9wKNxO",
        "colab_type": "text"
      },
      "source": [
        " <h2 align=\"center\">Logistic Regression: A Sentiment Analysis Case Study</h2>"
      ]
    },
    {
      "cell_type": "markdown",
      "metadata": {
        "id": "tYeDp3WoKNxU",
        "colab_type": "text"
      },
      "source": [
        "### Introduction\n",
        "___"
      ]
    },
    {
      "cell_type": "markdown",
      "metadata": {
        "id": "UdGTO03WKNxV",
        "colab_type": "text"
      },
      "source": [
        "- IMDB movie reviews dataset\n",
        "- http://ai.stanford.edu/~amaas/data/sentiment\n",
        "- Contains 25000 positive and 25000 negative reviews\n",
        "<img src=\"https://i.imgur.com/lQNnqgi.png\" align=\"center\">\n",
        "- Contains at most reviews per movie\n",
        "- At least 7 stars out of 10 $\\rightarrow$ positive (label = 1)\n",
        "- At most 4 stars out of 10 $\\rightarrow$ negative (label = 0)\n",
        "- 50/50 train/test split\n",
        "- Evaluation accuracy"
      ]
    },
    {
      "cell_type": "markdown",
      "metadata": {
        "id": "u1eECb6oKNxW",
        "colab_type": "text"
      },
      "source": [
        "<b>Features: bag of 1-grams with TF-IDF values</b>:\n",
        "- Extremely sparse feature matrix - close to 97% are zeros"
      ]
    },
    {
      "cell_type": "markdown",
      "metadata": {
        "id": "F98bGyeBKNxY",
        "colab_type": "text"
      },
      "source": [
        " <b>Model: Logistic regression</b>\n",
        "- $p(y = 1|x) = \\sigma(w^{T}x)$\n",
        "- Linear classification model\n",
        "- Can handle sparse data\n",
        "- Fast to train\n",
        "- Weights can be interpreted\n",
        "<img src=\"https://i.imgur.com/VieM41f.png\" align=\"center\" width=500 height=500>"
      ]
    },
    {
      "cell_type": "markdown",
      "metadata": {
        "id": "MtPXt1vVKNxZ",
        "colab_type": "text"
      },
      "source": [
        "### Task 1: Loading the dataset\n",
        "---"
      ]
    },
    {
      "cell_type": "code",
      "metadata": {
        "id": "bZu1QeMywghr",
        "colab_type": "code",
        "outputId": "0e3c3874-b7c3-4512-c358-43e28ca2eb31",
        "colab": {
          "base_uri": "https://localhost:8080/",
          "height": 309
        }
      },
      "source": [
        "!wget \"https://github.com/Tangent007/ML-Projects/raw/master/Logistic%20Regression-%20Sentiment%20analysis/movie_data.csv\""
      ],
      "execution_count": 3,
      "outputs": [
        {
          "output_type": "stream",
          "text": [
            "--2020-04-16 14:12:16--  https://github.com/Tangent007/ML-Projects/raw/master/Logistic%20Regression-%20Sentiment%20analysis/movie_data.csv\n",
            "Resolving github.com (github.com)... 140.82.113.4\n",
            "Connecting to github.com (github.com)|140.82.113.4|:443... connected.\n",
            "HTTP request sent, awaiting response... 302 Found\n",
            "Location: https://media.githubusercontent.com/media/Tangent007/ML-Projects/master/Logistic%20Regression-%20Sentiment%20analysis/movie_data.csv [following]\n",
            "--2020-04-16 14:12:16--  https://media.githubusercontent.com/media/Tangent007/ML-Projects/master/Logistic%20Regression-%20Sentiment%20analysis/movie_data.csv\n",
            "Resolving media.githubusercontent.com (media.githubusercontent.com)... 151.101.0.133, 151.101.64.133, 151.101.128.133, ...\n",
            "Connecting to media.githubusercontent.com (media.githubusercontent.com)|151.101.0.133|:443... connected.\n",
            "HTTP request sent, awaiting response... 200 OK\n",
            "Length: 65862309 (63M) [text/plain]\n",
            "Saving to: ‘movie_data.csv’\n",
            "\n",
            "movie_data.csv      100%[===================>]  62.81M   202MB/s    in 0.3s    \n",
            "\n",
            "2020-04-16 14:12:18 (202 MB/s) - ‘movie_data.csv’ saved [65862309/65862309]\n",
            "\n"
          ],
          "name": "stdout"
        }
      ]
    },
    {
      "cell_type": "code",
      "metadata": {
        "id": "mFQ5zpsYKNxa",
        "colab_type": "code",
        "outputId": "9a6c7cd5-be36-485c-8d9e-25db18856790",
        "colab": {
          "base_uri": "https://localhost:8080/",
          "height": 359
        }
      },
      "source": [
        "# !wget \"https://github.com/Tangent007/ML-Projects/blob/master/Logistic%20Regression-%20Sentiment%20analysis/movie_data.csv\"\n",
        "import pandas as pd\n",
        "df=pd.read_csv(\"movie_data.csv\")\n",
        "df.head(10)"
      ],
      "execution_count": 4,
      "outputs": [
        {
          "output_type": "execute_result",
          "data": {
            "text/html": [
              "<div>\n",
              "<style scoped>\n",
              "    .dataframe tbody tr th:only-of-type {\n",
              "        vertical-align: middle;\n",
              "    }\n",
              "\n",
              "    .dataframe tbody tr th {\n",
              "        vertical-align: top;\n",
              "    }\n",
              "\n",
              "    .dataframe thead th {\n",
              "        text-align: right;\n",
              "    }\n",
              "</style>\n",
              "<table border=\"1\" class=\"dataframe\">\n",
              "  <thead>\n",
              "    <tr style=\"text-align: right;\">\n",
              "      <th></th>\n",
              "      <th>review</th>\n",
              "      <th>sentiment</th>\n",
              "    </tr>\n",
              "  </thead>\n",
              "  <tbody>\n",
              "    <tr>\n",
              "      <th>0</th>\n",
              "      <td>In 1974, the teenager Martha Moxley (Maggie Gr...</td>\n",
              "      <td>1</td>\n",
              "    </tr>\n",
              "    <tr>\n",
              "      <th>1</th>\n",
              "      <td>OK... so... I really like Kris Kristofferson a...</td>\n",
              "      <td>0</td>\n",
              "    </tr>\n",
              "    <tr>\n",
              "      <th>2</th>\n",
              "      <td>***SPOILER*** Do not read this, if you think a...</td>\n",
              "      <td>0</td>\n",
              "    </tr>\n",
              "    <tr>\n",
              "      <th>3</th>\n",
              "      <td>hi for all the people who have seen this wonde...</td>\n",
              "      <td>1</td>\n",
              "    </tr>\n",
              "    <tr>\n",
              "      <th>4</th>\n",
              "      <td>I recently bought the DVD, forgetting just how...</td>\n",
              "      <td>0</td>\n",
              "    </tr>\n",
              "    <tr>\n",
              "      <th>5</th>\n",
              "      <td>Leave it to Braik to put on a good show. Final...</td>\n",
              "      <td>1</td>\n",
              "    </tr>\n",
              "    <tr>\n",
              "      <th>6</th>\n",
              "      <td>Nathan Detroit (Frank Sinatra) is the manager ...</td>\n",
              "      <td>1</td>\n",
              "    </tr>\n",
              "    <tr>\n",
              "      <th>7</th>\n",
              "      <td>To understand \"Crash Course\" in the right cont...</td>\n",
              "      <td>1</td>\n",
              "    </tr>\n",
              "    <tr>\n",
              "      <th>8</th>\n",
              "      <td>I've been impressed with Chavez's stance again...</td>\n",
              "      <td>1</td>\n",
              "    </tr>\n",
              "    <tr>\n",
              "      <th>9</th>\n",
              "      <td>This movie is directed by Renny Harlin the fin...</td>\n",
              "      <td>1</td>\n",
              "    </tr>\n",
              "  </tbody>\n",
              "</table>\n",
              "</div>"
            ],
            "text/plain": [
              "                                              review  sentiment\n",
              "0  In 1974, the teenager Martha Moxley (Maggie Gr...          1\n",
              "1  OK... so... I really like Kris Kristofferson a...          0\n",
              "2  ***SPOILER*** Do not read this, if you think a...          0\n",
              "3  hi for all the people who have seen this wonde...          1\n",
              "4  I recently bought the DVD, forgetting just how...          0\n",
              "5  Leave it to Braik to put on a good show. Final...          1\n",
              "6  Nathan Detroit (Frank Sinatra) is the manager ...          1\n",
              "7  To understand \"Crash Course\" in the right cont...          1\n",
              "8  I've been impressed with Chavez's stance again...          1\n",
              "9  This movie is directed by Renny Harlin the fin...          1"
            ]
          },
          "metadata": {
            "tags": []
          },
          "execution_count": 4
        }
      ]
    },
    {
      "cell_type": "code",
      "metadata": {
        "id": "qEYMthatKNxj",
        "colab_type": "code",
        "outputId": "17c703ac-5f76-4e72-cdf2-fd32583f8daf",
        "colab": {
          "base_uri": "https://localhost:8080/",
          "height": 54
        }
      },
      "source": [
        "df['review'][0]"
      ],
      "execution_count": 5,
      "outputs": [
        {
          "output_type": "execute_result",
          "data": {
            "text/plain": [
              "'In 1974, the teenager Martha Moxley (Maggie Grace) moves to the high-class area of Belle Haven, Greenwich, Connecticut. On the Mischief Night, eve of Halloween, she was murdered in the backyard of her house and her murder remained unsolved. Twenty-two years later, the writer Mark Fuhrman (Christopher Meloni), who is a former LA detective that has fallen in disgrace for perjury in O.J. Simpson trial and moved to Idaho, decides to investigate the case with his partner Stephen Weeks (Andrew Mitchell) with the purpose of writing a book. The locals squirm and do not welcome them, but with the support of the retired detective Steve Carroll (Robert Forster) that was in charge of the investigation in the 70\\'s, they discover the criminal and a net of power and money to cover the murder.<br /><br />\"Murder in Greenwich\" is a good TV movie, with the true story of a murder of a fifteen years old girl that was committed by a wealthy teenager whose mother was a Kennedy. The powerful and rich family used their influence to cover the murder for more than twenty years. However, a snoopy detective and convicted perjurer in disgrace was able to disclose how the hideous crime was committed. The screenplay shows the investigation of Mark and the last days of Martha in parallel, but there is a lack of the emotion in the dramatization. My vote is seven.<br /><br />Title (Brazil): Not Available'"
            ]
          },
          "metadata": {
            "tags": []
          },
          "execution_count": 5
        }
      ]
    },
    {
      "cell_type": "markdown",
      "metadata": {
        "id": "SSOAaKN_KNxo",
        "colab_type": "text"
      },
      "source": [
        "## <h2 align=\"center\">Bag of words / Bag of N-grams model</h2>"
      ]
    },
    {
      "cell_type": "markdown",
      "metadata": {
        "id": "GONTiI7xKNxp",
        "colab_type": "text"
      },
      "source": [
        "### Task 2: Transforming documents into feature vectors"
      ]
    },
    {
      "cell_type": "markdown",
      "metadata": {
        "id": "eU9aFosvKNxq",
        "colab_type": "text"
      },
      "source": [
        "Below, we will call the fit_transform method on CountVectorizer. This will construct the vocabulary of the bag-of-words model and transform the following three sentences into sparse feature vectors:\n",
        "1. The sun is shining\n",
        "2. The weather is sweet\n",
        "3. The sun is shining, the weather is sweet, and one and one is two\n"
      ]
    },
    {
      "cell_type": "code",
      "metadata": {
        "id": "Fuk9XNwnKNxr",
        "colab_type": "code",
        "colab": {}
      },
      "source": [
        "import numpy as np\n",
        "from sklearn.feature_extraction.text import CountVectorizer\n",
        "\n",
        "count =CountVectorizer()\n",
        "\n",
        "docs =np.array(['The sun is shining',\n",
        "                'The weather is sweet',\n",
        "                'The sun is shining, the weather is sweet, and one and one is two'])\n",
        "bag= count.fit_transform(docs)"
      ],
      "execution_count": 0,
      "outputs": []
    },
    {
      "cell_type": "code",
      "metadata": {
        "id": "4VzOUMBAKNxw",
        "colab_type": "code",
        "outputId": "84d3fe47-7666-4e86-d9ae-7498d07a3766",
        "colab": {
          "base_uri": "https://localhost:8080/",
          "height": 34
        }
      },
      "source": [
        "print(count.vocabulary_)"
      ],
      "execution_count": 7,
      "outputs": [
        {
          "output_type": "stream",
          "text": [
            "{'the': 6, 'sun': 4, 'is': 1, 'shining': 3, 'weather': 8, 'sweet': 5, 'and': 0, 'one': 2, 'two': 7}\n"
          ],
          "name": "stdout"
        }
      ]
    },
    {
      "cell_type": "code",
      "metadata": {
        "id": "DTBLcWpYKNx1",
        "colab_type": "code",
        "outputId": "0c5062b9-1c7e-4279-aa1a-92bc99c37a03",
        "colab": {
          "base_uri": "https://localhost:8080/",
          "height": 68
        }
      },
      "source": [
        "print(bag.toarray())"
      ],
      "execution_count": 8,
      "outputs": [
        {
          "output_type": "stream",
          "text": [
            "[[0 1 0 1 1 0 1 0 0]\n",
            " [0 1 0 0 0 1 1 0 1]\n",
            " [2 3 2 1 1 1 2 1 1]]\n"
          ],
          "name": "stdout"
        }
      ]
    },
    {
      "cell_type": "markdown",
      "metadata": {
        "id": "1a5MNwq0KNx6",
        "colab_type": "text"
      },
      "source": [
        "Raw term frequencies: *tf (t,d)*—the number of times a term t occurs in a document *d*"
      ]
    },
    {
      "cell_type": "markdown",
      "metadata": {
        "id": "B2aWIP4iKNx7",
        "colab_type": "text"
      },
      "source": [
        "### Task 3: Word relevancy using term frequency-inverse document frequency"
      ]
    },
    {
      "cell_type": "markdown",
      "metadata": {
        "id": "vKrkJHiXKNx9",
        "colab_type": "text"
      },
      "source": [
        "$$\\text{tf-idf}(t,d)=\\text{tf (t,d)}\\times \\text{idf}(t,d)$$"
      ]
    },
    {
      "cell_type": "markdown",
      "metadata": {
        "id": "mz_e0zdeKNyJ",
        "colab_type": "text"
      },
      "source": [
        "$$\\text{idf}(t,d) = \\text{log}\\frac{n_d}{1+\\text{df}(d, t)},$$"
      ]
    },
    {
      "cell_type": "markdown",
      "metadata": {
        "id": "5O3qGPFkKNyK",
        "colab_type": "text"
      },
      "source": [
        "where $n_d$ is the total number of documents, and df(d, t) is the number of documents d that contain the term t."
      ]
    },
    {
      "cell_type": "code",
      "metadata": {
        "id": "-1ebW6scKNyN",
        "colab_type": "code",
        "outputId": "737656d8-5b4c-4486-c9ed-2811f446728e",
        "colab": {
          "base_uri": "https://localhost:8080/",
          "height": 68
        }
      },
      "source": [
        "from sklearn.feature_extraction.text import TfidfTransformer\n",
        "np.set_printoptions(precision=2)\n",
        "tfidf= TfidfTransformer(use_idf=True, norm='l2', smooth_idf=True)\n",
        "\n",
        "print(tfidf.fit_transform(bag).toarray())"
      ],
      "execution_count": 9,
      "outputs": [
        {
          "output_type": "stream",
          "text": [
            "[[0.   0.43 0.   0.56 0.56 0.   0.43 0.   0.  ]\n",
            " [0.   0.43 0.   0.   0.   0.56 0.43 0.   0.56]\n",
            " [0.5  0.45 0.5  0.19 0.19 0.19 0.3  0.25 0.19]]\n"
          ],
          "name": "stdout"
        }
      ]
    },
    {
      "cell_type": "code",
      "metadata": {
        "id": "Lo1-ckOcKNyS",
        "colab_type": "code",
        "colab": {}
      },
      "source": [
        ""
      ],
      "execution_count": 0,
      "outputs": []
    },
    {
      "cell_type": "markdown",
      "metadata": {
        "id": "sePfYJocKNyX",
        "colab_type": "text"
      },
      "source": [
        "The equations for the idf and tf-idf that are implemented in scikit-learn are:\n",
        "\n",
        "$$\\text{idf} (t,d) = log\\frac{1 + n_d}{1 + \\text{df}(d, t)}$$\n",
        "The tf-idf equation that is implemented in scikit-learn is as follows:\n",
        "\n",
        "$$\\text{tf-idf}(t,d) = \\text{tf}(t,d) \\times (\\text{idf}(t,d)+1)$$"
      ]
    },
    {
      "cell_type": "markdown",
      "metadata": {
        "id": "jtE11R9EKNyY",
        "colab_type": "text"
      },
      "source": [
        "### Task 4: Data Preparation"
      ]
    },
    {
      "cell_type": "code",
      "metadata": {
        "id": "rlNU6nx2KNyY",
        "colab_type": "code",
        "outputId": "558899c1-b06b-41fe-bc03-ebb2a0b3a11e",
        "colab": {
          "base_uri": "https://localhost:8080/",
          "height": 34
        }
      },
      "source": [
        "df.loc[0,'review'][-50:]"
      ],
      "execution_count": 0,
      "outputs": [
        {
          "output_type": "execute_result",
          "data": {
            "text/plain": [
              "'is seven.<br /><br />Title (Brazil): Not Available'"
            ]
          },
          "metadata": {
            "tags": []
          },
          "execution_count": 16
        }
      ]
    },
    {
      "cell_type": "code",
      "metadata": {
        "id": "jtlfl-F8KNyg",
        "colab_type": "code",
        "colab": {}
      },
      "source": [
        "import re\n",
        "def preprocessor(text):\n",
        "    text = re.sub('<[^>]*>', '', text)\n",
        "    emoticons = re.findall('(?::|;|=)(?:-)?(?:\\)|\\(|D|P)', text)\n",
        "    text = re.sub('[\\W]+', ' ', text.lower()) +\\\n",
        "        ' '.join(emoticons).replace('-', '')\n",
        "    return text"
      ],
      "execution_count": 0,
      "outputs": []
    },
    {
      "cell_type": "code",
      "metadata": {
        "id": "U9f7kKKHKNym",
        "colab_type": "code",
        "outputId": "c094ba75-0491-4185-e752-537ee420ffa1",
        "colab": {
          "base_uri": "https://localhost:8080/",
          "height": 34
        }
      },
      "source": [
        "preprocessor(df.loc[0,'review'][-50:])"
      ],
      "execution_count": 11,
      "outputs": [
        {
          "output_type": "execute_result",
          "data": {
            "text/plain": [
              "'is seven title brazil not available'"
            ]
          },
          "metadata": {
            "tags": []
          },
          "execution_count": 11
        }
      ]
    },
    {
      "cell_type": "code",
      "metadata": {
        "id": "ZHLEBFJPKNyq",
        "colab_type": "code",
        "outputId": "090b1c12-e3b2-49ae-fa7c-44ce90e13fa5",
        "colab": {
          "base_uri": "https://localhost:8080/",
          "height": 34
        }
      },
      "source": [
        "preprocessor('<b>')"
      ],
      "execution_count": 12,
      "outputs": [
        {
          "output_type": "execute_result",
          "data": {
            "text/plain": [
              "''"
            ]
          },
          "metadata": {
            "tags": []
          },
          "execution_count": 12
        }
      ]
    },
    {
      "cell_type": "code",
      "metadata": {
        "id": "J_jgHmzoKNyu",
        "colab_type": "code",
        "colab": {}
      },
      "source": [
        "df['review']=df['review'].apply(preprocessor)"
      ],
      "execution_count": 0,
      "outputs": []
    },
    {
      "cell_type": "markdown",
      "metadata": {
        "id": "D1YyZH28KNyz",
        "colab_type": "text"
      },
      "source": [
        "### Task 5: Tokenization of documents"
      ]
    },
    {
      "cell_type": "code",
      "metadata": {
        "id": "pU1EHVCfKNyz",
        "colab_type": "code",
        "colab": {}
      },
      "source": [
        "from nltk.stem.porter import PorterStemmer\n",
        "\n",
        "porter = PorterStemmer()"
      ],
      "execution_count": 0,
      "outputs": []
    },
    {
      "cell_type": "code",
      "metadata": {
        "id": "oayYpZj3KNy4",
        "colab_type": "code",
        "colab": {}
      },
      "source": [
        "def tokenizer(text):\n",
        "  return text.split()"
      ],
      "execution_count": 0,
      "outputs": []
    },
    {
      "cell_type": "code",
      "metadata": {
        "id": "whOHMZUxKNy8",
        "colab_type": "code",
        "colab": {}
      },
      "source": [
        "def tokenizer_porter(text):\n",
        "  return [porter.stem(word) for word in text.split()]"
      ],
      "execution_count": 0,
      "outputs": []
    },
    {
      "cell_type": "code",
      "metadata": {
        "id": "6yZ9HSYbKNzD",
        "colab_type": "code",
        "outputId": "cc03dcff-c508-4218-c2a7-7bacf992fbc2",
        "colab": {
          "base_uri": "https://localhost:8080/",
          "height": 34
        }
      },
      "source": [
        "tokenizer_porter('you going i go fuk you')"
      ],
      "execution_count": 17,
      "outputs": [
        {
          "output_type": "execute_result",
          "data": {
            "text/plain": [
              "['you', 'go', 'i', 'go', 'fuk', 'you']"
            ]
          },
          "metadata": {
            "tags": []
          },
          "execution_count": 17
        }
      ]
    },
    {
      "cell_type": "code",
      "metadata": {
        "id": "qRTmTkwSN1sf",
        "colab_type": "code",
        "outputId": "e5a2498d-8963-45d0-b2e4-0344958388c6",
        "colab": {
          "base_uri": "https://localhost:8080/",
          "height": 34
        }
      },
      "source": [
        "tokenizer('you going i go fuk you')"
      ],
      "execution_count": 18,
      "outputs": [
        {
          "output_type": "execute_result",
          "data": {
            "text/plain": [
              "['you', 'going', 'i', 'go', 'fuk', 'you']"
            ]
          },
          "metadata": {
            "tags": []
          },
          "execution_count": 18
        }
      ]
    },
    {
      "cell_type": "code",
      "metadata": {
        "id": "0nTm5hFuKNzI",
        "colab_type": "code",
        "outputId": "130cdcfa-3ef1-4917-e03f-26ca5d72d83a",
        "colab": {
          "base_uri": "https://localhost:8080/",
          "height": 68
        }
      },
      "source": [
        "import nltk\n",
        "nltk.download('stopwords')"
      ],
      "execution_count": 19,
      "outputs": [
        {
          "output_type": "stream",
          "text": [
            "[nltk_data] Downloading package stopwords to /root/nltk_data...\n",
            "[nltk_data]   Unzipping corpora/stopwords.zip.\n"
          ],
          "name": "stdout"
        },
        {
          "output_type": "execute_result",
          "data": {
            "text/plain": [
              "True"
            ]
          },
          "metadata": {
            "tags": []
          },
          "execution_count": 19
        }
      ]
    },
    {
      "cell_type": "code",
      "metadata": {
        "id": "npWqqb1BOXmV",
        "colab_type": "code",
        "outputId": "43e4ab7f-c519-45e2-fdd0-a55b7143b79b",
        "colab": {
          "base_uri": "https://localhost:8080/",
          "height": 34
        }
      },
      "source": [
        "from nltk.corpus import stopwords\n",
        "\n",
        "stop = stopwords.words('english')\n",
        "\n",
        "[w for w in tokenizer_porter('a you going for a walk get out')[-10:] if w not in stop]"
      ],
      "execution_count": 20,
      "outputs": [
        {
          "output_type": "execute_result",
          "data": {
            "text/plain": [
              "['go', 'walk', 'get']"
            ]
          },
          "metadata": {
            "tags": []
          },
          "execution_count": 20
        }
      ]
    },
    {
      "cell_type": "markdown",
      "metadata": {
        "id": "NJYN5dXXKNzO",
        "colab_type": "text"
      },
      "source": [
        "### Task 6: Transform Text Data into TF-IDF Vectors"
      ]
    },
    {
      "cell_type": "code",
      "metadata": {
        "id": "b77dDxqhKNzO",
        "colab_type": "code",
        "colab": {}
      },
      "source": [
        "from sklearn.feature_extraction.text import TfidfVectorizer\n",
        "\n",
        "tfidf = TfidfVectorizer(strip_accents=None,\n",
        "                        lowercase=False,\n",
        "                        preprocessor=None,\n",
        "                        tokenizer=tokenizer_porter,\n",
        "                        use_idf=True,\n",
        "                        norm='l2',\n",
        "                        smooth_idf=True)\n",
        "\n",
        "y= df.sentiment.values\n",
        "x= tfidf.fit_transform(df.review)"
      ],
      "execution_count": 0,
      "outputs": []
    },
    {
      "cell_type": "code",
      "metadata": {
        "id": "-8bCaTrZKNzU",
        "colab_type": "code",
        "outputId": "4be7256e-95ac-4167-9388-05173a931223",
        "colab": {
          "base_uri": "https://localhost:8080/",
          "height": 51
        }
      },
      "source": [
        "x"
      ],
      "execution_count": 44,
      "outputs": [
        {
          "output_type": "execute_result",
          "data": {
            "text/plain": [
              "<50000x73814 sparse matrix of type '<class 'numpy.float64'>'\n",
              "\twith 6785262 stored elements in Compressed Sparse Row format>"
            ]
          },
          "metadata": {
            "tags": []
          },
          "execution_count": 44
        }
      ]
    },
    {
      "cell_type": "markdown",
      "metadata": {
        "id": "e1zpTBKiKNzZ",
        "colab_type": "text"
      },
      "source": [
        "### Task 7: Document Classification using Logistic Regression"
      ]
    },
    {
      "cell_type": "code",
      "metadata": {
        "id": "y08NcKa3KNza",
        "colab_type": "code",
        "colab": {}
      },
      "source": [
        "from sklearn.model_selection import train_test_split\n",
        "\n",
        "x_train,x_test,y_train,y_test=train_test_split(x,y,test_size=0.5,random_state=1,shuffle=False)"
      ],
      "execution_count": 0,
      "outputs": []
    },
    {
      "cell_type": "code",
      "metadata": {
        "id": "YNsTm6mvKNzh",
        "colab_type": "code",
        "colab": {
          "base_uri": "https://localhost:8080/",
          "height": 51
        },
        "outputId": "db24a41e-1973-445e-b5f5-a13a3f3af1cd"
      },
      "source": [
        "import pickle\n",
        "from sklearn.linear_model import LogisticRegressionCV\n",
        "\n",
        "clf= LogisticRegressionCV(cv=5,\n",
        "                          scoring=\"accuracy\",\n",
        "                          random_state=0,\n",
        "                          n_jobs=-1,\n",
        "                          verbose=3,\n",
        "                          max_iter=300).fit(x_train,y_train)\n",
        "\n",
        "saved_model= open('saved_model.sav','wb')\n",
        "pickle.dump(clf,saved_model)\n",
        "saved_model.close()"
      ],
      "execution_count": 25,
      "outputs": [
        {
          "output_type": "stream",
          "text": [
            "[Parallel(n_jobs=-1)]: Using backend LokyBackend with 2 concurrent workers.\n",
            "[Parallel(n_jobs=-1)]: Done   5 out of   5 | elapsed:  2.4min finished\n"
          ],
          "name": "stderr"
        }
      ]
    },
    {
      "cell_type": "markdown",
      "metadata": {
        "id": "LFHbWz8KKNzm",
        "colab_type": "text"
      },
      "source": [
        "### Task 8: Model Evaluation"
      ]
    },
    {
      "cell_type": "code",
      "metadata": {
        "id": "-vLsqK8dKNzn",
        "colab_type": "code",
        "colab": {}
      },
      "source": [
        "filename= 'saved_model.sav'\n",
        "saved_clf=pickle.load(open(filename,'rb'))"
      ],
      "execution_count": 0,
      "outputs": []
    },
    {
      "cell_type": "code",
      "metadata": {
        "id": "DVTUWs8lKNzs",
        "colab_type": "code",
        "colab": {
          "base_uri": "https://localhost:8080/",
          "height": 34
        },
        "outputId": "6f2d5480-36b7-4239-d8fa-37fa00cfa420"
      },
      "source": [
        "saved_clf.score(x_test, y_test)"
      ],
      "execution_count": 27,
      "outputs": [
        {
          "output_type": "execute_result",
          "data": {
            "text/plain": [
              "0.89608"
            ]
          },
          "metadata": {
            "tags": []
          },
          "execution_count": 27
        }
      ]
    }
  ]
}